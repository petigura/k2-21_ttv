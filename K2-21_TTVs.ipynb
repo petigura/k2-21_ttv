{
 "cells": [
  {
   "cell_type": "markdown",
   "id": "0f2f1b5b",
   "metadata": {},
   "source": [
    "# K2-Photometry\n",
    "\n",
    "Here we\n",
    "\n",
    "1. Generate detrended K2 photometry\n",
    "2. Remove outliers\n",
    "3. Whiten light-curve\n",
    "4. Refit and resample light curve with linear emphem"
   ]
  },
  {
   "cell_type": "code",
   "execution_count": 1,
   "id": "cf148d19",
   "metadata": {},
   "outputs": [
    {
     "name": "stdout",
     "output_type": "stream",
     "text": [
      "Populating the interactive namespace from numpy and matplotlib\n"
     ]
    }
   ],
   "source": [
    "from io import StringIO as sio\n",
    "import everest\n",
    "from everest.gp import GP\n",
    "import pandas as pd\n",
    "import exoplanet as xo\n",
    "import pymc3 as pm\n",
    "import pymc3_ext as pmx\n",
    "import ldtk\n",
    "%pylab osx\n",
    ",close all\n",
    "\n",
    "s = \"\"\"\n",
    "planet  per      t0        T14    ror \n",
    "b       9.32414  2156.4239 2.305  2.60\n",
    "c       15.50120 2155.4708 2.296  3.15\n",
    "\"\"\"\n",
    "trans = pd.read_csv(sio(s),sep='\\s+',index_col=0)"
   ]
  },
  {
   "cell_type": "code",
   "execution_count": null,
   "id": "d1cef2ba",
   "metadata": {},
   "outputs": [],
   "source": []
  },
  {
   "cell_type": "code",
   "execution_count": 19,
   "id": "f6b58845",
   "metadata": {},
   "outputs": [
    {
     "name": "stdout",
     "output_type": "stream",
     "text": [
      "Need to download 189 files, approximately 63.13 MB\n"
     ]
    },
    {
     "data": {
      "application/vnd.jupyter.widget-view+json": {
       "model_id": "543266b581e044f9920502d53a664ccb",
       "version_major": 2,
       "version_minor": 0
      },
      "text/plain": [
       "LDTk downloading uncached files:   0%|          | 0/189 [00:00<?, ?it/s]"
      ]
     },
     "metadata": {},
     "output_type": "display_data"
    },
    {
     "name": "stdout",
     "output_type": "stream",
     "text": [
      "[[0.43590115 0.26774386]]\n",
      "[[0.01546328 0.01963826]]\n"
     ]
    }
   ],
   "source": [
    "from ldtk import LDPSetCreator\n",
    "sc = LDPSetCreator(teff=(4000,   400),    # Define your star, and the code\n",
    "                   logg=(4.80, 0.20),    # downloads the uncached stellar\n",
    "                   z=(-0.1, 0.1),\n",
    "                   filters=[ldtk.kepler])\n",
    "\n",
    "ps = sc.create_profiles()              \n",
    "cq,eq = ps.coeffs_qd(do_mc=True)         # Estimate quadratic law coefficients\n",
    "print(cq)\n",
    "print(eq)"
   ]
  },
  {
   "cell_type": "code",
   "execution_count": 42,
   "id": "be96dece",
   "metadata": {},
   "outputs": [],
   "source": [
    "u = array([0.43590115,0.26774386])\n",
    "#uerr = array([0.01546328,0.01963826])"
   ]
  },
  {
   "cell_type": "code",
   "execution_count": 23,
   "id": "505e4745",
   "metadata": {},
   "outputs": [
    {
     "name": "stdout",
     "output_type": "stream",
     "text": [
      "INFO  [everest.user.DownloadFile()]: Found cached file.\n",
      "INFO  [everest.user.load_fits()]: Loading FITS file for 206011691.\n",
      "INFO  [everest.basecamp.compute()]: Computing the model...\n"
     ]
    },
    {
     "data": {
      "text/plain": [
       "(158000.0, 160000.0)"
      ]
     },
     "execution_count": 23,
     "metadata": {},
     "output_type": "execute_result"
    }
   ],
   "source": [
    "star = everest.Everest(206011691)\n",
    "gp = GP(star.kernel, star.kernel_params, white=False)\n",
    "gp.compute(star.apply_mask(star.time), star.apply_mask(star.fraw_err))\n",
    "med = np.nanmedian(star.apply_mask(star.flux))\n",
    "fgp, _ = gp.predict(star.apply_mask(star.flux) - med, star.time)\n",
    "fwhite1 = (star.flux - fgp)\n",
    "fwhite1 /= np.nanmedian(fwhite1)\n",
    "\n",
    "\n",
    "clf()\n",
    "figure(figsize=(20,4))\n",
    "plot(star.apply_mask(star.time),star.apply_mask(star.flux),'.')\n",
    "plot(star.time,fgp+med)\n",
    "\n",
    "mask1 = star.mask.copy()\n",
    "\n",
    "# Recompute GP with transits masked\n",
    "for i, row in trans.iterrows():\n",
    "    star.mask_planet(row.t0, row.per, dur=1.5 * row.T14/24.0)\n",
    "\n",
    "star.compute()\n",
    "\n",
    "gp = GP(star.kernel, star.kernel_params, white=False)\n",
    "gp.compute(star.apply_mask(star.time), star.apply_mask(star.fraw_err))\n",
    "med = np.nanmedian(star.apply_mask(star.flux))\n",
    "fgp, _ = gp.predict(star.apply_mask(star.flux) - med, star.time)\n",
    "fwhite2 = (star.flux - fgp)\n",
    "fwhite2 /= np.nanmedian(fwhite2)\n",
    "\n",
    "# Reset outlier and transit mask\n",
    "plot(star.apply_mask(star.time),star.apply_mask(star.flux),'.')\n",
    "plot(star.time,fgp+med)\n",
    "star.transitmask = np.array([])\n",
    "star.outmask = np.array([])\n",
    "ylim(1.58e5, 1.60e5)"
   ]
  },
  {
   "cell_type": "markdown",
   "id": "61661937",
   "metadata": {},
   "source": [
    "## Compare whitened flux"
   ]
  },
  {
   "cell_type": "code",
   "execution_count": 26,
   "id": "1bf73db5",
   "metadata": {},
   "outputs": [
    {
     "data": {
      "text/plain": [
       "(0.999, 1.001)"
      ]
     },
     "execution_count": 26,
     "metadata": {},
     "output_type": "execute_result"
    }
   ],
   "source": [
    "plot(star.time,fwhite2,'.')\n",
    "plot(star.apply_mask(star.time),star.apply_mask(fwhite2),'.')\n",
    "ylim(0.999,1.001)"
   ]
  },
  {
   "cell_type": "markdown",
   "id": "a3d815b6",
   "metadata": {},
   "source": [
    "## Perform a preliminary fit of whitened photometry "
   ]
  },
  {
   "cell_type": "code",
   "execution_count": 43,
   "id": "dde10e11",
   "metadata": {},
   "outputs": [
    {
     "name": "stdout",
     "output_type": "stream",
     "text": [
      "0.00010896290516807517\n",
      "DEBUG [filelock.acquire()]: Attempting to acquire lock 140342813674704 on /Users/petigura/.theano/compiledir_macOS-10.16-x86_64-i386-64bit-i386-3.9.7-64/.lock\n",
      "DEBUG [filelock.acquire()]: Lock 140342813674704 acquired on /Users/petigura/.theano/compiledir_macOS-10.16-x86_64-i386-64bit-i386-3.9.7-64/.lock\n",
      "DEBUG [filelock.release()]: Attempting to release lock 140342813674704 on /Users/petigura/.theano/compiledir_macOS-10.16-x86_64-i386-64bit-i386-3.9.7-64/.lock\n",
      "DEBUG [filelock.release()]: Lock 140342813674704 released on /Users/petigura/.theano/compiledir_macOS-10.16-x86_64-i386-64bit-i386-3.9.7-64/.lock\n",
      "DEBUG [filelock.acquire()]: Attempting to acquire lock 140343028676208 on /Users/petigura/.theano/compiledir_macOS-10.16-x86_64-i386-64bit-i386-3.9.7-64/.lock\n",
      "DEBUG [filelock.acquire()]: Lock 140343028676208 acquired on /Users/petigura/.theano/compiledir_macOS-10.16-x86_64-i386-64bit-i386-3.9.7-64/.lock\n",
      "DEBUG [filelock.release()]: Attempting to release lock 140343028676208 on /Users/petigura/.theano/compiledir_macOS-10.16-x86_64-i386-64bit-i386-3.9.7-64/.lock\n",
      "DEBUG [filelock.release()]: Lock 140343028676208 released on /Users/petigura/.theano/compiledir_macOS-10.16-x86_64-i386-64bit-i386-3.9.7-64/.lock\n",
      "DEBUG [filelock.acquire()]: Attempting to acquire lock 140342630568384 on /Users/petigura/.theano/compiledir_macOS-10.16-x86_64-i386-64bit-i386-3.9.7-64/.lock\n",
      "DEBUG [filelock.acquire()]: Lock 140342630568384 acquired on /Users/petigura/.theano/compiledir_macOS-10.16-x86_64-i386-64bit-i386-3.9.7-64/.lock\n",
      "DEBUG [filelock.release()]: Attempting to release lock 140342630568384 on /Users/petigura/.theano/compiledir_macOS-10.16-x86_64-i386-64bit-i386-3.9.7-64/.lock\n",
      "DEBUG [filelock.release()]: Lock 140342630568384 released on /Users/petigura/.theano/compiledir_macOS-10.16-x86_64-i386-64bit-i386-3.9.7-64/.lock\n",
      "DEBUG [filelock.acquire()]: Attempting to acquire lock 140342811062720 on /Users/petigura/.theano/compiledir_macOS-10.16-x86_64-i386-64bit-i386-3.9.7-64/.lock\n",
      "DEBUG [filelock.acquire()]: Lock 140342811062720 acquired on /Users/petigura/.theano/compiledir_macOS-10.16-x86_64-i386-64bit-i386-3.9.7-64/.lock\n",
      "DEBUG [filelock.release()]: Attempting to release lock 140342811062720 on /Users/petigura/.theano/compiledir_macOS-10.16-x86_64-i386-64bit-i386-3.9.7-64/.lock\n",
      "DEBUG [filelock.release()]: Lock 140342811062720 released on /Users/petigura/.theano/compiledir_macOS-10.16-x86_64-i386-64bit-i386-3.9.7-64/.lock\n",
      "DEBUG [filelock.acquire()]: Attempting to acquire lock 140342811203376 on /Users/petigura/.theano/compiledir_macOS-10.16-x86_64-i386-64bit-i386-3.9.7-64/.lock\n",
      "DEBUG [filelock.acquire()]: Lock 140342811203376 acquired on /Users/petigura/.theano/compiledir_macOS-10.16-x86_64-i386-64bit-i386-3.9.7-64/.lock\n",
      "DEBUG [filelock.release()]: Attempting to release lock 140342811203376 on /Users/petigura/.theano/compiledir_macOS-10.16-x86_64-i386-64bit-i386-3.9.7-64/.lock\n",
      "DEBUG [filelock.release()]: Lock 140342811203376 released on /Users/petigura/.theano/compiledir_macOS-10.16-x86_64-i386-64bit-i386-3.9.7-64/.lock\n",
      "DEBUG [filelock.acquire()]: Attempting to acquire lock 140343393583056 on /Users/petigura/.theano/compiledir_macOS-10.16-x86_64-i386-64bit-i386-3.9.7-64/.lock\n",
      "DEBUG [filelock.acquire()]: Lock 140343393583056 acquired on /Users/petigura/.theano/compiledir_macOS-10.16-x86_64-i386-64bit-i386-3.9.7-64/.lock\n",
      "DEBUG [filelock.release()]: Attempting to release lock 140343393583056 on /Users/petigura/.theano/compiledir_macOS-10.16-x86_64-i386-64bit-i386-3.9.7-64/.lock\n",
      "DEBUG [filelock.release()]: Lock 140343393583056 released on /Users/petigura/.theano/compiledir_macOS-10.16-x86_64-i386-64bit-i386-3.9.7-64/.lock\n",
      "DEBUG [filelock.acquire()]: Attempting to acquire lock 140342811487200 on /Users/petigura/.theano/compiledir_macOS-10.16-x86_64-i386-64bit-i386-3.9.7-64/.lock\n",
      "DEBUG [filelock.acquire()]: Lock 140342811487200 acquired on /Users/petigura/.theano/compiledir_macOS-10.16-x86_64-i386-64bit-i386-3.9.7-64/.lock\n",
      "DEBUG [filelock.release()]: Attempting to release lock 140342811487200 on /Users/petigura/.theano/compiledir_macOS-10.16-x86_64-i386-64bit-i386-3.9.7-64/.lock\n",
      "DEBUG [filelock.release()]: Lock 140342811487200 released on /Users/petigura/.theano/compiledir_macOS-10.16-x86_64-i386-64bit-i386-3.9.7-64/.lock\n",
      "DEBUG [filelock.acquire()]: Attempting to acquire lock 140343393721360 on /Users/petigura/.theano/compiledir_macOS-10.16-x86_64-i386-64bit-i386-3.9.7-64/.lock\n",
      "DEBUG [filelock.acquire()]: Lock 140343393721360 acquired on /Users/petigura/.theano/compiledir_macOS-10.16-x86_64-i386-64bit-i386-3.9.7-64/.lock\n",
      "DEBUG [filelock.release()]: Attempting to release lock 140343393721360 on /Users/petigura/.theano/compiledir_macOS-10.16-x86_64-i386-64bit-i386-3.9.7-64/.lock\n",
      "DEBUG [filelock.release()]: Lock 140343393721360 released on /Users/petigura/.theano/compiledir_macOS-10.16-x86_64-i386-64bit-i386-3.9.7-64/.lock\n",
      "DEBUG [filelock.acquire()]: Attempting to acquire lock 140343375570208 on /Users/petigura/.theano/compiledir_macOS-10.16-x86_64-i386-64bit-i386-3.9.7-64/.lock\n",
      "DEBUG [filelock.acquire()]: Lock 140343375570208 acquired on /Users/petigura/.theano/compiledir_macOS-10.16-x86_64-i386-64bit-i386-3.9.7-64/.lock\n",
      "DEBUG [filelock.release()]: Attempting to release lock 140343375570208 on /Users/petigura/.theano/compiledir_macOS-10.16-x86_64-i386-64bit-i386-3.9.7-64/.lock\n",
      "DEBUG [filelock.release()]: Lock 140343375570208 released on /Users/petigura/.theano/compiledir_macOS-10.16-x86_64-i386-64bit-i386-3.9.7-64/.lock\n",
      "DEBUG [filelock.acquire()]: Attempting to acquire lock 140342628887280 on /Users/petigura/.theano/compiledir_macOS-10.16-x86_64-i386-64bit-i386-3.9.7-64/.lock\n",
      "DEBUG [filelock.acquire()]: Lock 140342628887280 acquired on /Users/petigura/.theano/compiledir_macOS-10.16-x86_64-i386-64bit-i386-3.9.7-64/.lock\n",
      "DEBUG [filelock.release()]: Attempting to release lock 140342628887280 on /Users/petigura/.theano/compiledir_macOS-10.16-x86_64-i386-64bit-i386-3.9.7-64/.lock\n",
      "DEBUG [filelock.release()]: Lock 140342628887280 released on /Users/petigura/.theano/compiledir_macOS-10.16-x86_64-i386-64bit-i386-3.9.7-64/.lock\n",
      "DEBUG [filelock.acquire()]: Attempting to acquire lock 140342220758560 on /Users/petigura/.theano/compiledir_macOS-10.16-x86_64-i386-64bit-i386-3.9.7-64/.lock\n",
      "DEBUG [filelock.acquire()]: Lock 140342220758560 acquired on /Users/petigura/.theano/compiledir_macOS-10.16-x86_64-i386-64bit-i386-3.9.7-64/.lock\n",
      "DEBUG [filelock.release()]: Attempting to release lock 140342220758560 on /Users/petigura/.theano/compiledir_macOS-10.16-x86_64-i386-64bit-i386-3.9.7-64/.lock\n",
      "DEBUG [filelock.release()]: Lock 140342220758560 released on /Users/petigura/.theano/compiledir_macOS-10.16-x86_64-i386-64bit-i386-3.9.7-64/.lock\n",
      "DEBUG [filelock.acquire()]: Attempting to acquire lock 140343025750656 on /Users/petigura/.theano/compiledir_macOS-10.16-x86_64-i386-64bit-i386-3.9.7-64/.lock\n",
      "DEBUG [filelock.acquire()]: Lock 140343025750656 acquired on /Users/petigura/.theano/compiledir_macOS-10.16-x86_64-i386-64bit-i386-3.9.7-64/.lock\n",
      "DEBUG [filelock.release()]: Attempting to release lock 140343025750656 on /Users/petigura/.theano/compiledir_macOS-10.16-x86_64-i386-64bit-i386-3.9.7-64/.lock\n",
      "DEBUG [filelock.release()]: Lock 140343025750656 released on /Users/petigura/.theano/compiledir_macOS-10.16-x86_64-i386-64bit-i386-3.9.7-64/.lock\n",
      "DEBUG [filelock.acquire()]: Attempting to acquire lock 140343376938272 on /Users/petigura/.theano/compiledir_macOS-10.16-x86_64-i386-64bit-i386-3.9.7-64/.lock\n",
      "DEBUG [filelock.acquire()]: Lock 140343376938272 acquired on /Users/petigura/.theano/compiledir_macOS-10.16-x86_64-i386-64bit-i386-3.9.7-64/.lock\n",
      "DEBUG [filelock.release()]: Attempting to release lock 140343376938272 on /Users/petigura/.theano/compiledir_macOS-10.16-x86_64-i386-64bit-i386-3.9.7-64/.lock\n",
      "DEBUG [filelock.release()]: Lock 140343376938272 released on /Users/petigura/.theano/compiledir_macOS-10.16-x86_64-i386-64bit-i386-3.9.7-64/.lock\n",
      "DEBUG [filelock.acquire()]: Attempting to acquire lock 140343393693024 on /Users/petigura/.theano/compiledir_macOS-10.16-x86_64-i386-64bit-i386-3.9.7-64/.lock\n",
      "DEBUG [filelock.acquire()]: Lock 140343393693024 acquired on /Users/petigura/.theano/compiledir_macOS-10.16-x86_64-i386-64bit-i386-3.9.7-64/.lock\n"
     ]
    },
    {
     "name": "stdout",
     "output_type": "stream",
     "text": [
      "DEBUG [filelock.release()]: Attempting to release lock 140343393693024 on /Users/petigura/.theano/compiledir_macOS-10.16-x86_64-i386-64bit-i386-3.9.7-64/.lock\n",
      "DEBUG [filelock.release()]: Lock 140343393693024 released on /Users/petigura/.theano/compiledir_macOS-10.16-x86_64-i386-64bit-i386-3.9.7-64/.lock\n",
      "DEBUG [filelock.acquire()]: Attempting to acquire lock 140343393806176 on /Users/petigura/.theano/compiledir_macOS-10.16-x86_64-i386-64bit-i386-3.9.7-64/.lock\n",
      "DEBUG [filelock.acquire()]: Lock 140343393806176 acquired on /Users/petigura/.theano/compiledir_macOS-10.16-x86_64-i386-64bit-i386-3.9.7-64/.lock\n",
      "DEBUG [filelock.release()]: Attempting to release lock 140343393806176 on /Users/petigura/.theano/compiledir_macOS-10.16-x86_64-i386-64bit-i386-3.9.7-64/.lock\n",
      "DEBUG [filelock.release()]: Lock 140343393806176 released on /Users/petigura/.theano/compiledir_macOS-10.16-x86_64-i386-64bit-i386-3.9.7-64/.lock\n",
      "DEBUG [filelock.acquire()]: Attempting to acquire lock 140343378606736 on /Users/petigura/.theano/compiledir_macOS-10.16-x86_64-i386-64bit-i386-3.9.7-64/.lock\n",
      "DEBUG [filelock.acquire()]: Lock 140343378606736 acquired on /Users/petigura/.theano/compiledir_macOS-10.16-x86_64-i386-64bit-i386-3.9.7-64/.lock\n",
      "DEBUG [filelock.release()]: Attempting to release lock 140343378606736 on /Users/petigura/.theano/compiledir_macOS-10.16-x86_64-i386-64bit-i386-3.9.7-64/.lock\n",
      "DEBUG [filelock.release()]: Lock 140343378606736 released on /Users/petigura/.theano/compiledir_macOS-10.16-x86_64-i386-64bit-i386-3.9.7-64/.lock\n",
      "DEBUG [filelock.acquire()]: Attempting to acquire lock 140343025855168 on /Users/petigura/.theano/compiledir_macOS-10.16-x86_64-i386-64bit-i386-3.9.7-64/.lock\n",
      "DEBUG [filelock.acquire()]: Lock 140343025855168 acquired on /Users/petigura/.theano/compiledir_macOS-10.16-x86_64-i386-64bit-i386-3.9.7-64/.lock\n",
      "DEBUG [filelock.release()]: Attempting to release lock 140343025855168 on /Users/petigura/.theano/compiledir_macOS-10.16-x86_64-i386-64bit-i386-3.9.7-64/.lock\n",
      "DEBUG [filelock.release()]: Lock 140343025855168 released on /Users/petigura/.theano/compiledir_macOS-10.16-x86_64-i386-64bit-i386-3.9.7-64/.lock\n",
      "DEBUG [filelock.acquire()]: Attempting to acquire lock 140343025853440 on /Users/petigura/.theano/compiledir_macOS-10.16-x86_64-i386-64bit-i386-3.9.7-64/.lock\n",
      "DEBUG [filelock.acquire()]: Lock 140343025853440 acquired on /Users/petigura/.theano/compiledir_macOS-10.16-x86_64-i386-64bit-i386-3.9.7-64/.lock\n",
      "DEBUG [filelock.release()]: Attempting to release lock 140343025853440 on /Users/petigura/.theano/compiledir_macOS-10.16-x86_64-i386-64bit-i386-3.9.7-64/.lock\n",
      "DEBUG [filelock.release()]: Lock 140343025853440 released on /Users/petigura/.theano/compiledir_macOS-10.16-x86_64-i386-64bit-i386-3.9.7-64/.lock\n",
      "DEBUG [filelock.acquire()]: Attempting to acquire lock 140343370887120 on /Users/petigura/.theano/compiledir_macOS-10.16-x86_64-i386-64bit-i386-3.9.7-64/.lock\n",
      "DEBUG [filelock.acquire()]: Lock 140343370887120 acquired on /Users/petigura/.theano/compiledir_macOS-10.16-x86_64-i386-64bit-i386-3.9.7-64/.lock\n",
      "DEBUG [filelock.release()]: Attempting to release lock 140343370887120 on /Users/petigura/.theano/compiledir_macOS-10.16-x86_64-i386-64bit-i386-3.9.7-64/.lock\n",
      "DEBUG [filelock.release()]: Lock 140343370887120 released on /Users/petigura/.theano/compiledir_macOS-10.16-x86_64-i386-64bit-i386-3.9.7-64/.lock\n",
      "DEBUG [filelock.acquire()]: Attempting to acquire lock 140343375086496 on /Users/petigura/.theano/compiledir_macOS-10.16-x86_64-i386-64bit-i386-3.9.7-64/.lock\n",
      "DEBUG [filelock.acquire()]: Lock 140343375086496 acquired on /Users/petigura/.theano/compiledir_macOS-10.16-x86_64-i386-64bit-i386-3.9.7-64/.lock\n",
      "DEBUG [filelock.release()]: Attempting to release lock 140343375086496 on /Users/petigura/.theano/compiledir_macOS-10.16-x86_64-i386-64bit-i386-3.9.7-64/.lock\n",
      "DEBUG [filelock.release()]: Lock 140343375086496 released on /Users/petigura/.theano/compiledir_macOS-10.16-x86_64-i386-64bit-i386-3.9.7-64/.lock\n",
      "DEBUG [filelock.acquire()]: Attempting to acquire lock 140343369932960 on /Users/petigura/.theano/compiledir_macOS-10.16-x86_64-i386-64bit-i386-3.9.7-64/.lock\n",
      "DEBUG [filelock.acquire()]: Lock 140343369932960 acquired on /Users/petigura/.theano/compiledir_macOS-10.16-x86_64-i386-64bit-i386-3.9.7-64/.lock\n",
      "DEBUG [filelock.release()]: Attempting to release lock 140343369932960 on /Users/petigura/.theano/compiledir_macOS-10.16-x86_64-i386-64bit-i386-3.9.7-64/.lock\n",
      "DEBUG [filelock.release()]: Lock 140343369932960 released on /Users/petigura/.theano/compiledir_macOS-10.16-x86_64-i386-64bit-i386-3.9.7-64/.lock\n",
      "DEBUG [filelock.acquire()]: Attempting to acquire lock 140343369933728 on /Users/petigura/.theano/compiledir_macOS-10.16-x86_64-i386-64bit-i386-3.9.7-64/.lock\n",
      "DEBUG [filelock.acquire()]: Lock 140343369933728 acquired on /Users/petigura/.theano/compiledir_macOS-10.16-x86_64-i386-64bit-i386-3.9.7-64/.lock\n",
      "DEBUG [filelock.release()]: Attempting to release lock 140343369933728 on /Users/petigura/.theano/compiledir_macOS-10.16-x86_64-i386-64bit-i386-3.9.7-64/.lock\n",
      "DEBUG [filelock.release()]: Lock 140343369933728 released on /Users/petigura/.theano/compiledir_macOS-10.16-x86_64-i386-64bit-i386-3.9.7-64/.lock\n",
      "DEBUG [filelock.acquire()]: Attempting to acquire lock 140343588717856 on /Users/petigura/.theano/compiledir_macOS-10.16-x86_64-i386-64bit-i386-3.9.7-64/.lock\n",
      "DEBUG [filelock.acquire()]: Lock 140343588717856 acquired on /Users/petigura/.theano/compiledir_macOS-10.16-x86_64-i386-64bit-i386-3.9.7-64/.lock\n",
      "DEBUG [filelock.release()]: Attempting to release lock 140343588717856 on /Users/petigura/.theano/compiledir_macOS-10.16-x86_64-i386-64bit-i386-3.9.7-64/.lock\n",
      "DEBUG [filelock.release()]: Lock 140343588717856 released on /Users/petigura/.theano/compiledir_macOS-10.16-x86_64-i386-64bit-i386-3.9.7-64/.lock\n",
      "DEBUG [filelock.acquire()]: Attempting to acquire lock 140343851690256 on /Users/petigura/.theano/compiledir_macOS-10.16-x86_64-i386-64bit-i386-3.9.7-64/.lock\n",
      "DEBUG [filelock.acquire()]: Lock 140343851690256 acquired on /Users/petigura/.theano/compiledir_macOS-10.16-x86_64-i386-64bit-i386-3.9.7-64/.lock\n",
      "DEBUG [filelock.release()]: Attempting to release lock 140343851690256 on /Users/petigura/.theano/compiledir_macOS-10.16-x86_64-i386-64bit-i386-3.9.7-64/.lock\n",
      "DEBUG [filelock.release()]: Lock 140343851690256 released on /Users/petigura/.theano/compiledir_macOS-10.16-x86_64-i386-64bit-i386-3.9.7-64/.lock\n",
      "DEBUG [filelock.acquire()]: Attempting to acquire lock 140342493459648 on /Users/petigura/.theano/compiledir_macOS-10.16-x86_64-i386-64bit-i386-3.9.7-64/.lock\n",
      "DEBUG [filelock.acquire()]: Lock 140342493459648 acquired on /Users/petigura/.theano/compiledir_macOS-10.16-x86_64-i386-64bit-i386-3.9.7-64/.lock\n",
      "DEBUG [filelock.release()]: Attempting to release lock 140342493459648 on /Users/petigura/.theano/compiledir_macOS-10.16-x86_64-i386-64bit-i386-3.9.7-64/.lock\n",
      "DEBUG [filelock.release()]: Lock 140342493459648 released on /Users/petigura/.theano/compiledir_macOS-10.16-x86_64-i386-64bit-i386-3.9.7-64/.lock\n",
      "DEBUG [filelock.acquire()]: Attempting to acquire lock 140343369592496 on /Users/petigura/.theano/compiledir_macOS-10.16-x86_64-i386-64bit-i386-3.9.7-64/.lock\n",
      "DEBUG [filelock.acquire()]: Lock 140343369592496 acquired on /Users/petigura/.theano/compiledir_macOS-10.16-x86_64-i386-64bit-i386-3.9.7-64/.lock\n",
      "DEBUG [filelock.release()]: Attempting to release lock 140343369592496 on /Users/petigura/.theano/compiledir_macOS-10.16-x86_64-i386-64bit-i386-3.9.7-64/.lock\n",
      "DEBUG [filelock.release()]: Lock 140343369592496 released on /Users/petigura/.theano/compiledir_macOS-10.16-x86_64-i386-64bit-i386-3.9.7-64/.lock\n",
      "DEBUG [filelock.acquire()]: Attempting to acquire lock 140343851934384 on /Users/petigura/.theano/compiledir_macOS-10.16-x86_64-i386-64bit-i386-3.9.7-64/.lock\n",
      "DEBUG [filelock.acquire()]: Lock 140343851934384 acquired on /Users/petigura/.theano/compiledir_macOS-10.16-x86_64-i386-64bit-i386-3.9.7-64/.lock\n",
      "DEBUG [filelock.release()]: Attempting to release lock 140343851934384 on /Users/petigura/.theano/compiledir_macOS-10.16-x86_64-i386-64bit-i386-3.9.7-64/.lock\n",
      "DEBUG [filelock.release()]: Lock 140343851934384 released on /Users/petigura/.theano/compiledir_macOS-10.16-x86_64-i386-64bit-i386-3.9.7-64/.lock\n"
     ]
    },
    {
     "name": "stdout",
     "output_type": "stream",
     "text": [
      "DEBUG [filelock.acquire()]: Attempting to acquire lock 140343393532320 on /Users/petigura/.theano/compiledir_macOS-10.16-x86_64-i386-64bit-i386-3.9.7-64/.lock\n",
      "DEBUG [filelock.acquire()]: Lock 140343393532320 acquired on /Users/petigura/.theano/compiledir_macOS-10.16-x86_64-i386-64bit-i386-3.9.7-64/.lock\n",
      "DEBUG [filelock.release()]: Attempting to release lock 140343393532320 on /Users/petigura/.theano/compiledir_macOS-10.16-x86_64-i386-64bit-i386-3.9.7-64/.lock\n",
      "DEBUG [filelock.release()]: Lock 140343393532320 released on /Users/petigura/.theano/compiledir_macOS-10.16-x86_64-i386-64bit-i386-3.9.7-64/.lock\n",
      "DEBUG [filelock.acquire()]: Attempting to acquire lock 140342811521376 on /Users/petigura/.theano/compiledir_macOS-10.16-x86_64-i386-64bit-i386-3.9.7-64/.lock\n",
      "DEBUG [filelock.acquire()]: Lock 140342811521376 acquired on /Users/petigura/.theano/compiledir_macOS-10.16-x86_64-i386-64bit-i386-3.9.7-64/.lock\n",
      "DEBUG [filelock.release()]: Attempting to release lock 140342811521376 on /Users/petigura/.theano/compiledir_macOS-10.16-x86_64-i386-64bit-i386-3.9.7-64/.lock\n",
      "DEBUG [filelock.release()]: Lock 140342811521376 released on /Users/petigura/.theano/compiledir_macOS-10.16-x86_64-i386-64bit-i386-3.9.7-64/.lock\n",
      "DEBUG [filelock.acquire()]: Attempting to acquire lock 140343587507984 on /Users/petigura/.theano/compiledir_macOS-10.16-x86_64-i386-64bit-i386-3.9.7-64/.lock\n",
      "DEBUG [filelock.acquire()]: Lock 140343587507984 acquired on /Users/petigura/.theano/compiledir_macOS-10.16-x86_64-i386-64bit-i386-3.9.7-64/.lock\n",
      "DEBUG [filelock.release()]: Attempting to release lock 140343587507984 on /Users/petigura/.theano/compiledir_macOS-10.16-x86_64-i386-64bit-i386-3.9.7-64/.lock\n",
      "DEBUG [filelock.release()]: Lock 140343587507984 released on /Users/petigura/.theano/compiledir_macOS-10.16-x86_64-i386-64bit-i386-3.9.7-64/.lock\n",
      "DEBUG [filelock.acquire()]: Attempting to acquire lock 140342630758816 on /Users/petigura/.theano/compiledir_macOS-10.16-x86_64-i386-64bit-i386-3.9.7-64/.lock\n",
      "DEBUG [filelock.acquire()]: Lock 140342630758816 acquired on /Users/petigura/.theano/compiledir_macOS-10.16-x86_64-i386-64bit-i386-3.9.7-64/.lock\n",
      "DEBUG [filelock.release()]: Attempting to release lock 140342630758816 on /Users/petigura/.theano/compiledir_macOS-10.16-x86_64-i386-64bit-i386-3.9.7-64/.lock\n",
      "DEBUG [filelock.release()]: Lock 140342630758816 released on /Users/petigura/.theano/compiledir_macOS-10.16-x86_64-i386-64bit-i386-3.9.7-64/.lock\n"
     ]
    },
    {
     "name": "stderr",
     "output_type": "stream",
     "text": [
      "optimizing logp for variables: [b, r, logP, t0, mean]\n"
     ]
    },
    {
     "data": {
      "text/html": [
       "\n",
       "    <div>\n",
       "        <style>\n",
       "            /* Turns off some styling */\n",
       "            progress {\n",
       "                /* gets rid of default border in Firefox and Opera. */\n",
       "                border: none;\n",
       "                /* Needs to be in here for Safari polyfill so background images work as expected. */\n",
       "                background-size: auto;\n",
       "            }\n",
       "            .progress-bar-interrupted, .progress-bar-interrupted::-webkit-progress-bar {\n",
       "                background: #F44336;\n",
       "            }\n",
       "        </style>\n",
       "      <progress value='109' class='' max='109' style='width:300px; height:20px; vertical-align: middle;'></progress>\n",
       "      100.00% [109/109 00:00<00:00 logp = 2.292e+04]\n",
       "    </div>\n",
       "    "
      ],
      "text/plain": [
       "<IPython.core.display.HTML object>"
      ]
     },
     "metadata": {},
     "output_type": "display_data"
    },
    {
     "name": "stdout",
     "output_type": "stream",
     "text": [
      "\n"
     ]
    },
    {
     "name": "stderr",
     "output_type": "stream",
     "text": [
      "message: Desired error not necessarily achieved due to precision loss.\n",
      "logp: 22180.814715920682 -> 22919.680672011604\n"
     ]
    }
   ],
   "source": [
    "t = star.apply_mask(star.time).astype('float64')\n",
    "y = star.apply_mask(fwhite2).astype('float64')\n",
    "y -= 1\n",
    "yerr = 1.48 * median(np.abs(fwhite2-1))\n",
    "\n",
    "print(yerr)\n",
    "with pm.Model() as model:\n",
    "\n",
    "    # The baseline flux\n",
    "    mean = pm.Normal(\"mean\", mu=0.0, sd=1.0)\n",
    "\n",
    "    # The time of a reference transit for each planet\n",
    "    t0 = pm.Normal(\"t0\", mu=array(trans.t0), sd=1.0, shape=2)\n",
    "\n",
    "    # The log period; also tracking the period itself\n",
    "    logP = pm.Normal(\"logP\", mu=np.log(array(trans.per)), sd=0.01, shape=2)\n",
    "    period = pm.Deterministic(\"period\", pm.math.exp(logP))\n",
    "\n",
    "    # The Kipping (2013) parameterization for quadratic limb darkening paramters\n",
    "\n",
    "    \n",
    "    r = pm.Uniform(\n",
    "        \"r\", lower=0.01, upper=0.1, shape=2, testval=np.array(trans.ror/100)\n",
    "    )\n",
    "    b = xo.distributions.ImpactParameter(\n",
    "        \"b\", ror=r, shape=2, testval=np.random.rand(2)\n",
    "    )\n",
    "\n",
    "    # Set up a Keplerian orbit for the planets\n",
    "    orbit = xo.orbits.KeplerianOrbit(period=period, t0=t0, b=b)\n",
    "\n",
    "    # Compute the model light curve using starry\n",
    "    light_curves = xo.LimbDarkLightCurve(u).get_light_curve(\n",
    "        orbit=orbit, r=r, t=t,texp=0.020432\n",
    "    )\n",
    "    light_curve = pm.math.sum(light_curves, axis=-1) + mean\n",
    "\n",
    "    # Here we track the value of the model light curve for plotting\n",
    "    # purposes\n",
    "    pm.Deterministic(\"light_curves\", light_curves)\n",
    "\n",
    "    # The likelihood function assuming known Gaussian uncertainty\n",
    "    pm.Normal(\"obs\", mu=light_curve, sd=yerr, observed=y)\n",
    "\n",
    "    # Fit for the maximum a posteriori parameters given the simuated\n",
    "    # dataset\n",
    "    map_soln = pmx.optimize(start=model.test_point)"
   ]
  },
  {
   "cell_type": "code",
   "execution_count": 44,
   "id": "f0d29ea1",
   "metadata": {},
   "outputs": [
    {
     "data": {
      "text/plain": [
       "[<matplotlib.lines.Line2D at 0x7fa41becd430>]"
      ]
     },
     "execution_count": 44,
     "metadata": {},
     "output_type": "execute_result"
    }
   ],
   "source": [
    ",close all\n",
    "fig,axL = subplots(nrows=2,sharex=True, sharey=True)\n",
    "sca(axL[0])\n",
    "plt.plot(t, y, \".k\", ms=4, label=\"data\")\n",
    "for i, l in enumerate(\"bc\"):\n",
    "    plt.plot(\n",
    "        t, map_soln[\"light_curves\"][:, i], lw=1, label=\"planet {0}\".format(l)\n",
    "    )\n",
    "plt.xlim(t.min(), t.max())\n",
    "plt.ylabel(\"relative flux\")\n",
    "plt.xlabel(\"time [days]\")\n",
    "plt.legend(fontsize=10)\n",
    "_ = plt.title(\"map model\")\n",
    "\n",
    "sca(axL[1])\n",
    "plt.plot(t, y-map_soln[\"light_curves\"].sum(-1), \".k\", ms=4, label=\"data\")\n"
   ]
  },
  {
   "cell_type": "markdown",
   "id": "ba439f16",
   "metadata": {},
   "source": [
    "## Remove outliers to initial fit "
   ]
  },
  {
   "cell_type": "code",
   "execution_count": 46,
   "id": "b9f49ea2",
   "metadata": {},
   "outputs": [
    {
     "name": "stdout",
     "output_type": "stream",
     "text": [
      "DEBUG [filelock.acquire()]: Attempting to acquire lock 140342820041440 on /Users/petigura/.theano/compiledir_macOS-10.16-x86_64-i386-64bit-i386-3.9.7-64/.lock\n",
      "DEBUG [filelock.acquire()]: Lock 140342820041440 acquired on /Users/petigura/.theano/compiledir_macOS-10.16-x86_64-i386-64bit-i386-3.9.7-64/.lock\n",
      "DEBUG [filelock.release()]: Attempting to release lock 140342820041440 on /Users/petigura/.theano/compiledir_macOS-10.16-x86_64-i386-64bit-i386-3.9.7-64/.lock\n",
      "DEBUG [filelock.release()]: Lock 140342820041440 released on /Users/petigura/.theano/compiledir_macOS-10.16-x86_64-i386-64bit-i386-3.9.7-64/.lock\n"
     ]
    },
    {
     "name": "stderr",
     "output_type": "stream",
     "text": [
      "optimizing logp for variables: [b, r, logP, t0, mean]\n"
     ]
    },
    {
     "data": {
      "text/html": [
       "\n",
       "    <div>\n",
       "        <style>\n",
       "            /* Turns off some styling */\n",
       "            progress {\n",
       "                /* gets rid of default border in Firefox and Opera. */\n",
       "                border: none;\n",
       "                /* Needs to be in here for Safari polyfill so background images work as expected. */\n",
       "                background-size: auto;\n",
       "            }\n",
       "            .progress-bar-interrupted, .progress-bar-interrupted::-webkit-progress-bar {\n",
       "                background: #F44336;\n",
       "            }\n",
       "        </style>\n",
       "      <progress value='64' class='' max='64' style='width:300px; height:20px; vertical-align: middle;'></progress>\n",
       "      100.00% [64/64 00:00<00:00 logp = 2.463e+04]\n",
       "    </div>\n",
       "    "
      ],
      "text/plain": [
       "<IPython.core.display.HTML object>"
      ]
     },
     "metadata": {},
     "output_type": "display_data"
    },
    {
     "name": "stdout",
     "output_type": "stream",
     "text": [
      "\n"
     ]
    },
    {
     "name": "stderr",
     "output_type": "stream",
     "text": [
      "message: Desired error not necessarily achieved due to precision loss.\n",
      "logp: 24630.54723753681 -> 24630.547237536815\n"
     ]
    }
   ],
   "source": [
    "bout = abs(y-map_soln[\"light_curves\"].sum(axis=-1)) > 5*yerr\n",
    "y = y[~bout]\n",
    "t = t[~bout]\n",
    "\n",
    "with pm.Model() as model:\n",
    "\n",
    "    # The baseline flux\n",
    "    mean = pm.Normal(\"mean\", mu=0.0, sd=1.0)\n",
    "\n",
    "    # The time of a reference transit for each planet\n",
    "    t0 = pm.Normal(\"t0\", mu=array(trans.t0), sd=1.0, shape=2)\n",
    "\n",
    "    # The log period; also tracking the period itself\n",
    "    logP = pm.Normal(\"logP\", mu=np.log(array(trans.per)), sd=0.01, shape=2)\n",
    "    period = pm.Deterministic(\"period\", pm.math.exp(logP))\n",
    "\n",
    "    # The Kipping (2013) parameterization for quadratic limb darkening paramters\n",
    "    r = pm.Uniform(\n",
    "        \"r\", lower=0.01, upper=0.1, shape=2, testval=np.array(trans.ror/100)\n",
    "    )\n",
    "    b = xo.distributions.ImpactParameter(\n",
    "        \"b\", ror=r, shape=2, testval=np.random.rand(2)\n",
    "    )\n",
    "\n",
    "    # Set up a Keplerian orbit for the planets\n",
    "    orbit = xo.orbits.KeplerianOrbit(period=period, t0=t0, b=b)\n",
    "\n",
    "    # Compute the model light curve using starry\n",
    "    light_curves = xo.LimbDarkLightCurve(u).get_light_curve(\n",
    "        orbit=orbit, r=r, t=t,texp=0.020432\n",
    "    )\n",
    "    light_curve = pm.math.sum(light_curves, axis=-1) + mean\n",
    "\n",
    "    # Here we track the value of the model light curve for plotting\n",
    "    # purposes\n",
    "    pm.Deterministic(\"light_curves\", light_curves)\n",
    "\n",
    "    # The likelihood function assuming known Gaussian uncertainty\n",
    "    pm.Normal(\"obs\", mu=light_curve, sd=yerr, observed=y)\n",
    "\n",
    "    # Fit for the maximum a posteriori parameters given the simuated\n",
    "    # dataset\n",
    "    map_soln = pmx.optimize(start=map_soln)"
   ]
  },
  {
   "cell_type": "code",
   "execution_count": 47,
   "id": "074d715e",
   "metadata": {},
   "outputs": [
    {
     "data": {
      "text/plain": [
       "[<matplotlib.lines.Line2D at 0x7fa4594355b0>]"
      ]
     },
     "execution_count": 47,
     "metadata": {},
     "output_type": "execute_result"
    }
   ],
   "source": [
    ",close all\n",
    "fig,axL = subplots(nrows=2,sharex=True, sharey=True)\n",
    "sca(axL[0])\n",
    "plt.plot(t, y, \".k\", ms=4, label=\"data\")\n",
    "for i, l in enumerate(\"bc\"):\n",
    "    plt.plot(\n",
    "        t, map_soln[\"light_curves\"][:, i], lw=1, label=\"planet {0}\".format(l)\n",
    "    )\n",
    "plt.xlim(t.min(), t.max())\n",
    "plt.ylabel(\"relative flux\")\n",
    "plt.xlabel(\"time [days]\")\n",
    "plt.legend(fontsize=10)\n",
    "_ = plt.title(\"map model\")\n",
    "\n",
    "sca(axL[1])\n",
    "plt.plot(t, y-map_soln[\"light_curves\"].sum(-1), \".k\", ms=4, label=\"data\")\n"
   ]
  },
  {
   "cell_type": "code",
   "execution_count": 53,
   "id": "2faac937",
   "metadata": {},
   "outputs": [],
   "source": [
    "df = pd.DataFrame(dict(t=t,f=y))\n",
    "df['ferr'] = yerr\n",
    "df.to_csv('k2-21_everest2-detrened-whitened.csv')"
   ]
  },
  {
   "cell_type": "markdown",
   "id": "e49a4e1b",
   "metadata": {},
   "source": [
    "## Inspect phase folded light curves"
   ]
  },
  {
   "cell_type": "code",
   "execution_count": null,
   "id": "84e16bfb",
   "metadata": {},
   "outputs": [],
   "source": []
  },
  {
   "cell_type": "code",
   "execution_count": 51,
   "id": "8f380bb7",
   "metadata": {},
   "outputs": [
    {
     "name": "stdout",
     "output_type": "stream",
     "text": [
      "DEBUG [matplotlib.pyplot.switch_backend()]: Loaded backend MacOSX version unknown.\n",
      "Populating the interactive namespace from numpy and matplotlib\n"
     ]
    }
   ],
   "source": [
    "%pylab osx\n",
    "for n, letter in enumerate(\"bc\"):\n",
    "    plt.figure()\n",
    "\n",
    "    # Get the posterior median orbital parameters\n",
    "    p = map_soln[\"period\"][n]\n",
    "    t0 = map_soln[\"t0\"][n]\n",
    "\n",
    "    # Compute the median of posterior estimate of the contribution from\n",
    "    # the other planet. Then we can remove this from the data to plot\n",
    "    # just the planet we care about.\n",
    "    other = map_soln[\"light_curves\"][:, (n + 1) % 2]\n",
    "\n",
    "    # Plot the folded data\n",
    "    x_fold = (t - t0 + 0.5 * p) % p - 0.5 * p\n",
    "    plt.errorbar(x_fold, y - other, yerr=yerr, fmt=\".k\", label=\"data\", zorder=-1000)\n",
    "\n",
    "    plt.legend(fontsize=10, loc=4)\n",
    "    plt.xlim(-0.5 * p, 0.5 * p)\n",
    "    plt.xlabel(\"time since transit [days]\")\n",
    "    plt.ylabel(\"relative flux\")\n",
    "    plt.title(\"planet {0}\".format(letter))\n",
    "    plt.xlim(-0.3, 0.3)"
   ]
  },
  {
   "cell_type": "code",
   "execution_count": 55,
   "id": "0146be21",
   "metadata": {},
   "outputs": [
    {
     "name": "stderr",
     "output_type": "stream",
     "text": [
      "Multiprocess sampling (4 chains in 4 jobs)\n"
     ]
    },
    {
     "name": "stdout",
     "output_type": "stream",
     "text": [
      "INFO  [pymc3.sample()]: Multiprocess sampling (4 chains in 4 jobs)\n"
     ]
    },
    {
     "name": "stderr",
     "output_type": "stream",
     "text": [
      "NUTS: [b, r, logP, t0, mean]\n"
     ]
    },
    {
     "name": "stdout",
     "output_type": "stream",
     "text": [
      "INFO  [pymc3._print_step_hierarchy()]: NUTS: [b, r, logP, t0, mean]\n"
     ]
    },
    {
     "name": "stderr",
     "output_type": "stream",
     "text": [
      "WARNING (theano.tensor.blas): Using NumPy C-API based implementation for BLAS functions.\n",
      "WARNING (theano.tensor.blas): Using NumPy C-API based implementation for BLAS functions.\n",
      "WARNING (theano.tensor.blas): Using NumPy C-API based implementation for BLAS functions.\n",
      "WARNING (theano.tensor.blas): Using NumPy C-API based implementation for BLAS functions.\n"
     ]
    },
    {
     "data": {
      "text/html": [
       "\n",
       "    <div>\n",
       "        <style>\n",
       "            /* Turns off some styling */\n",
       "            progress {\n",
       "                /* gets rid of default border in Firefox and Opera. */\n",
       "                border: none;\n",
       "                /* Needs to be in here for Safari polyfill so background images work as expected. */\n",
       "                background-size: auto;\n",
       "            }\n",
       "            .progress-bar-interrupted, .progress-bar-interrupted::-webkit-progress-bar {\n",
       "                background: #F44336;\n",
       "            }\n",
       "        </style>\n",
       "      <progress value='12000' class='' max='12000' style='width:300px; height:20px; vertical-align: middle;'></progress>\n",
       "      100.00% [12000/12000 00:28<00:00 Sampling 4 chains, 0 divergences]\n",
       "    </div>\n",
       "    "
      ],
      "text/plain": [
       "<IPython.core.display.HTML object>"
      ]
     },
     "metadata": {},
     "output_type": "display_data"
    },
    {
     "name": "stderr",
     "output_type": "stream",
     "text": [
      "Sampling 4 chains for 1_000 tune and 2_000 draw iterations (4_000 + 8_000 draws total) took 45 seconds.\n"
     ]
    },
    {
     "name": "stdout",
     "output_type": "stream",
     "text": [
      "INFO  [pymc3.sample()]: Sampling 4 chains for 1_000 tune and 2_000 draw iterations (4_000 + 8_000 draws total) took 45 seconds.\n"
     ]
    }
   ],
   "source": [
    "np.random.seed(42)\n",
    "with model:\n",
    "    trace = pmx.sample(\n",
    "        tune=1000,\n",
    "        draws=2000,\n",
    "        start=map_soln,\n",
    "        cores=4,\n",
    "        chains=4,\n",
    "        target_accept=0.9,\n",
    "        return_inferencedata=True,\n",
    "    )"
   ]
  },
  {
   "cell_type": "code",
   "execution_count": 66,
   "id": "74bf660c",
   "metadata": {},
   "outputs": [
    {
     "data": {
      "text/html": [
       "<div>\n",
       "<style scoped>\n",
       "    .dataframe tbody tr th:only-of-type {\n",
       "        vertical-align: middle;\n",
       "    }\n",
       "\n",
       "    .dataframe tbody tr th {\n",
       "        vertical-align: top;\n",
       "    }\n",
       "\n",
       "    .dataframe thead th {\n",
       "        text-align: right;\n",
       "    }\n",
       "</style>\n",
       "<table border=\"1\" class=\"dataframe\">\n",
       "  <thead>\n",
       "    <tr style=\"text-align: right;\">\n",
       "      <th></th>\n",
       "      <th>mean</th>\n",
       "      <th>sd</th>\n",
       "    </tr>\n",
       "  </thead>\n",
       "  <tbody>\n",
       "    <tr>\n",
       "      <th>period[0]</th>\n",
       "      <td>9.32544</td>\n",
       "      <td>0.00041</td>\n",
       "    </tr>\n",
       "    <tr>\n",
       "      <th>period[1]</th>\n",
       "      <td>15.50226</td>\n",
       "      <td>0.00072</td>\n",
       "    </tr>\n",
       "    <tr>\n",
       "      <th>t0[0]</th>\n",
       "      <td>2156.42113</td>\n",
       "      <td>0.00146</td>\n",
       "    </tr>\n",
       "    <tr>\n",
       "      <th>t0[1]</th>\n",
       "      <td>2155.47102</td>\n",
       "      <td>0.00145</td>\n",
       "    </tr>\n",
       "    <tr>\n",
       "      <th>r[0]</th>\n",
       "      <td>0.02844</td>\n",
       "      <td>0.00048</td>\n",
       "    </tr>\n",
       "    <tr>\n",
       "      <th>r[1]</th>\n",
       "      <td>0.03827</td>\n",
       "      <td>0.00063</td>\n",
       "    </tr>\n",
       "    <tr>\n",
       "      <th>b[0]</th>\n",
       "      <td>0.77808</td>\n",
       "      <td>0.01130</td>\n",
       "    </tr>\n",
       "    <tr>\n",
       "      <th>b[1]</th>\n",
       "      <td>0.87194</td>\n",
       "      <td>0.00544</td>\n",
       "    </tr>\n",
       "  </tbody>\n",
       "</table>\n",
       "</div>"
      ],
      "text/plain": [
       "                 mean       sd\n",
       "period[0]     9.32544  0.00041\n",
       "period[1]    15.50226  0.00072\n",
       "t0[0]      2156.42113  0.00146\n",
       "t0[1]      2155.47102  0.00145\n",
       "r[0]          0.02844  0.00048\n",
       "r[1]          0.03827  0.00063\n",
       "b[0]          0.77808  0.01130\n",
       "b[1]          0.87194  0.00544"
      ]
     },
     "execution_count": 66,
     "metadata": {},
     "output_type": "execute_result"
    }
   ],
   "source": [
    "import arviz as az\n",
    "az.summary(trace, var_names=[\"period\", \"t0\", \"r\", \"b\"],round_to=5)['mean sd'.split()]"
   ]
  },
  {
   "cell_type": "code",
   "execution_count": 62,
   "id": "8956ac55",
   "metadata": {},
   "outputs": [],
   "source": [
    "az.summary?"
   ]
  },
  {
   "cell_type": "code",
   "execution_count": null,
   "id": "38fa99b7",
   "metadata": {},
   "outputs": [],
   "source": [
    "import corner\n",
    "corner.corner(trace)\n"
   ]
  },
  {
   "cell_type": "code",
   "execution_count": 111,
   "id": "e7464d7d",
   "metadata": {},
   "outputs": [],
   "source": [
    "import pymc3 as pm\n",
    "import theano.tensor as tt\n",
    "\n",
    "np.random.seed(9485023)\n",
    "\n",
    "with pm.Model() as model:\n",
    "\n",
    "    # This part of the model is similar to the model in the `transit` tutorial\n",
    "    mean = pm.Normal(\"mean\", mu=0.0, sd=1.0)\n",
    "    u_star = xo.QuadLimbDark(\"u_star\")\n",
    "    logr = pm.Uniform(\n",
    "        \"logr\",\n",
    "        lower=np.log(0.01),\n",
    "        upper=np.log(0.1),\n",
    "        shape=2,\n",
    "        testval=np.log([0.04, 0.06]),\n",
    "    )\n",
    "    r = pm.Uniform(\n",
    "        \"r\", lower=0.01, upper=0.1, shape=2, testval=np.array(trans.ror/100)\n",
    "    )\n",
    "    b = xo.distributions.ImpactParameter(\n",
    "        \"b\", ror=r, shape=2, testval=np.random.rand(2)\n",
    "    )\n",
    "\n",
    "    # Now we have a parameter for each transit time for each planet:\n",
    "    transit_times = []\n",
    "    for i in range(2):\n",
    "        transit_times.append(\n",
    "            pm.Normal(\n",
    "                \"tts_{0}\".format(i),\n",
    "                mu=true_transit_times[i],\n",
    "                sd=1.0,\n",
    "                shape=len(true_transit_times[i]),\n",
    "            )\n",
    "        )\n",
    "\n",
    "    # Set up an orbit for the planets\n",
    "    orbit = xo.orbits.TTVOrbit(b=b, transit_times=transit_times)\n",
    "\n",
    "    # It will be useful later to track some parameters of the orbit\n",
    "    pm.Deterministic(\"t0\", orbit.t0)\n",
    "    pm.Deterministic(\"period\", orbit.period)\n",
    "    for i in range(2):\n",
    "        pm.Deterministic(\"ttvs_{0}\".format(i), orbit.ttvs[i])\n",
    "\n",
    "    # The rest of this block follows the transit fitting tutorial\n",
    "    light_curves = xo.LimbDarkLightCurve(u).get_light_curve(\n",
    "        orbit=orbit, r=r, t=t, texp=texp\n",
    "    )\n",
    "    light_curve = pm.math.sum(light_curves, axis=-1) + mean\n",
    "    pm.Deterministic(\"light_curves\", light_curves)\n",
    "    y = xo.eval_in_model(light_curve)\n",
    "    y += yerr * np.random.randn(len(y))\n",
    "    pm.Normal(\"obs\", mu=light_curve, sd=yerr, observed=y)\n",
    "\n",
    "    map_soln = model.test_point\n",
    "    map_soln = xo.optimize(start=map_soln, vars=transit_times)\n",
    "    map_soln = xo.optimize(start=map_soln, vars=[r, b])\n",
    "    map_soln = xo.optimize(start=map_soln, vars=transit_times)\n",
    "    map_soln = xo.optimize(start=map_soln)\n",
    "    \n",
    "    \n",
    "\n",
    "\n",
    "    \n",
    "    t0 = pm.Normal(\"t0\", mu=array(trans.t0), sd=1.0, shape=2)\n",
    "\n",
    "    # The log period; also tracking the period itself\n",
    "    logP = pm.Normal(\"logP\", mu=np.log(array(trans.per)), sd=0.01, shape=2)\n",
    "    period = pm.Deterministic(\"period\", pm.math.exp(logP))\n",
    "\n",
    "    # The Kipping (2013) parameterization for quadratic limb darkening paramters\n",
    "\n",
    "    # Set up a Keplerian orbit for the planets\n",
    "    orbit = xo.orbits.KeplerianOrbit(period=period, t0=t0, b=b)\n",
    "\n",
    "    # Compute the model light curve using starry\n",
    "    light_curves = xo.LimbDarkLightCurve(u_star).get_light_curve(\n",
    "        orbit=orbit, r=r, t=t,texp=0.020432\n",
    "    )\n",
    "    light_curve = pm.math.sum(light_curves, axis=-1) + mean\n",
    "\n",
    "    # Here we track the value of the model light curve for plotting\n",
    "    # purposes\n",
    "    pm.Deterministic(\"light_curves\", light_curves)\n",
    "\n",
    "    # The likelihood function assuming known Gaussian uncertainty\n",
    "    pm.Normal(\"obs\", mu=light_curve, sd=yerr, observed=y)\n",
    "\n",
    "    # Fit for the maximum a posteriori parameters given the simuated\n",
    "    # dataset\n",
    "    map_soln = pmx.optimize(start=map_soln)"
   ]
  },
  {
   "cell_type": "code",
   "execution_count": 126,
   "id": "99ec751e",
   "metadata": {},
   "outputs": [
    {
     "data": {
      "text/plain": [
       "['K0',\n",
       " 'M0',\n",
       " 'Omega',\n",
       " '__citations__',\n",
       " '__class__',\n",
       " '__delattr__',\n",
       " '__dict__',\n",
       " '__dir__',\n",
       " '__doc__',\n",
       " '__eq__',\n",
       " '__format__',\n",
       " '__ge__',\n",
       " '__getattribute__',\n",
       " '__gt__',\n",
       " '__hash__',\n",
       " '__init__',\n",
       " '__init_subclass__',\n",
       " '__le__',\n",
       " '__lt__',\n",
       " '__module__',\n",
       " '__ne__',\n",
       " '__new__',\n",
       " '__reduce__',\n",
       " '__reduce_ex__',\n",
       " '__repr__',\n",
       " '__setattr__',\n",
       " '__sizeof__',\n",
       " '__str__',\n",
       " '__subclasshook__',\n",
       " '__weakref__',\n",
       " '_flip',\n",
       " '_get_acceleration',\n",
       " '_get_position',\n",
       " '_get_position_and_velocity',\n",
       " '_get_retarded_position',\n",
       " '_get_true_anomaly',\n",
       " '_get_velocity',\n",
       " '_rotate_vector',\n",
       " '_warp_times',\n",
       " 'a',\n",
       " 'a_planet',\n",
       " 'a_star',\n",
       " 'b',\n",
       " 'cos_incl',\n",
       " 'dcosidb',\n",
       " 'ecc',\n",
       " 'get_planet_acceleration',\n",
       " 'get_planet_position',\n",
       " 'get_planet_velocity',\n",
       " 'get_radial_velocity',\n",
       " 'get_relative_acceleration',\n",
       " 'get_relative_angles',\n",
       " 'get_relative_position',\n",
       " 'get_relative_velocity',\n",
       " 'get_star_acceleration',\n",
       " 'get_star_position',\n",
       " 'get_star_velocity',\n",
       " 'in_transit',\n",
       " 'incl',\n",
       " 'jacobians',\n",
       " 'm_planet',\n",
       " 'm_star',\n",
       " 'm_total',\n",
       " 'n',\n",
       " 'period',\n",
       " 'r_star',\n",
       " 'rho_star',\n",
       " 'sin_incl',\n",
       " 't0',\n",
       " 't_periastron',\n",
       " 'tref']"
      ]
     },
     "execution_count": 126,
     "metadata": {},
     "output_type": "execute_result"
    }
   ],
   "source": [
    "dir(orbit)"
   ]
  },
  {
   "cell_type": "code",
   "execution_count": null,
   "id": "c65d0203",
   "metadata": {},
   "outputs": [],
   "source": []
  }
 ],
 "metadata": {
  "kernelspec": {
   "display_name": "Python 3 (ipykernel)",
   "language": "python",
   "name": "python3"
  },
  "language_info": {
   "codemirror_mode": {
    "name": "ipython",
    "version": 3
   },
   "file_extension": ".py",
   "mimetype": "text/x-python",
   "name": "python",
   "nbconvert_exporter": "python",
   "pygments_lexer": "ipython3",
   "version": "3.9.7"
  }
 },
 "nbformat": 4,
 "nbformat_minor": 5
}
